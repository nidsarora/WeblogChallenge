{
 "cells": [
  {
   "cell_type": "code",
   "execution_count": 1,
   "metadata": {},
   "outputs": [],
   "source": [
    "# -*- coding: utf-8 -*-\n",
    "\n",
    "import os\n",
    "import sys\n",
    "from datetime import datetime\n",
    "import pandas as pd\n",
    "import numpy as np\n",
    "from statsmodels.tsa.statespace import sarimax\n",
    "from statsmodels.tsa.stattools import acf, pacf\n",
    "from statsmodels.graphics.tsaplots import plot_acf,plot_pacf\n",
    "from pandas import Series\n",
    "from statsmodels.tsa.arima_model import ARIMA \n",
    "os.chdir(\"C:/Users/arora/Documents/spark-python\")  \n",
    "os.environ['SPARK_HOME'] = 'C:/Users/arora/spark-2.3.3-bin-hadoop2.7'\n",
    "\n",
    "# Create a variable for our root path\n",
    "SPARK_HOME = os.environ['SPARK_HOME']\n",
    "\n",
    "#Add the following paths to the system path. \n",
    "sys.path.insert(0,os.path.join(SPARK_HOME,\"python\"))\n",
    "sys.path.insert(0,os.path.join(SPARK_HOME,\"python\",\"lib\"))\n",
    "sys.path.insert(0,os.path.join(SPARK_HOME,\"python\",\"lib\",\"pyspark.zip\"))\n",
    "sys.path.insert(0,os.path.join(SPARK_HOME,\"python\",\"lib\",\"py4j-0.10.7-src.zip\"))\n",
    "\n",
    "from pyspark.sql import Row\n",
    "import pyspark\n",
    "from pyspark.sql import SparkSession\n",
    "from pyspark import SparkContext\n",
    "from pyspark.sql import functions as F\n",
    "from pyspark.sql.functions import to_timestamp\n",
    "from pyspark.sql.functions import split\n",
    "from pyspark.sql.window import Window\n",
    "import pyspark.sql.functions as func\n",
    "from pyspark.sql.functions import lit\n",
    "from pyspark.sql.functions import unix_timestamp\n",
    "from pyspark.sql.functions import from_unixtime\n",
    "from pyspark.sql.functions import col, udf\n",
    "from pyspark.sql.types import TimestampType,IntegerType\n",
    "from pyspark.sql.functions import lag\n",
    "from datetime import datetime\n",
    "\n",
    "def time_delta(y,x): \n",
    "    from datetime import datetime\n",
    "    end = datetime.strptime(y, '%Y-%m-%dT%H:%M:%S.%fZ')  \n",
    "    start = datetime.strptime(x, '%Y-%m-%dT%H:%M:%S.%fZ')\n",
    "    delta = (end-start).total_seconds()\n",
    "    return delta"
   ]
  },
  {
   "cell_type": "code",
   "execution_count": 2,
   "metadata": {},
   "outputs": [],
   "source": [
    "#Create a Spark Session\n",
    "SpSession = SparkSession \\\n",
    "    .builder \\\n",
    "    .master(\"local[2]\") \\\n",
    "    .appName(\"Nidhi\") \\\n",
    "    .getOrCreate()\n",
    "    \n",
    "#Get the Spark Context from Spark Session    \n",
    "sc = SpSession.sparkContext\n"
   ]
  },
  {
   "cell_type": "code",
   "execution_count": 4,
   "metadata": {},
   "outputs": [],
   "source": [
    "func =  udf (lambda x: datetime.strptime(x, '%Y-%m-%dT%H:%M:%S.%fZ'), TimestampType())\n",
    "\n",
    "func2 =  udf (lambda x: x.replace(microsecond=0), TimestampType())\n",
    "\n",
    "\n",
    "split_col = split(logDataFrame['client_ip'], ':')\n",
    "logDataFrame = logDataFrame.withColumn('IP', split_col.getItem(0))\n",
    "logDataFrame.createOrReplaceTempView(\"data_With_IP\")\n",
    "logDataFrameWithIP = logDataFrame.withColumn('time_stamp', func(col('timestamp_str'))).cache()\n",
    "\n",
    "logDataFrameWithIPNoMicroSecs = logDataFrameWithIP.withColumn('time_stamp_without_microsecs', func2(col('time_stamp'))).cache()\n",
    "logDataFrameWithIPNoMicroSecs.take(1)\n",
    "logDataFrameWithIPNoMicroSecs.createOrReplaceTempView(\"df_time_stamp_without_microsecs\")\n",
    "\n",
    "logDataFrameIPTimeStamp = logDataFrameWithIP.withColumn('time_stamp_previous',\n",
    "                        lag(logDataFrameWithIP.time_stamp,1)\n",
    "                                 .over(Window.partitionBy(\"IP\").orderBy(\"time_stamp\"))).cache()"
   ]
  },
  {
   "cell_type": "code",
   "execution_count": 6,
   "metadata": {},
   "outputs": [],
   "source": [
    "logDataFrameIPTimeStamp = logDataFrameIPTimeStamp.withColumn(\n",
    "    \"time_diff_in_secs\", \n",
    "    unix_timestamp(\"time_stamp\") - unix_timestamp(\"time_stamp_previous\")\n",
    ")\n",
    "\n",
    "logDataFrameIPTimeStamp.createOrReplaceTempView(\"log_session\")"
   ]
  },
  {
   "cell_type": "code",
   "execution_count": 8,
   "metadata": {},
   "outputs": [
    {
     "name": "stdout",
     "output_type": "stream",
     "text": [
      "+-------------+-----------------+\n",
      "|           IP|time_diff_in_secs|\n",
      "+-------------+-----------------+\n",
      "|1.186.111.224|              980|\n",
      "|1.186.180.183|            17305|\n",
      "| 1.186.247.60|            15353|\n",
      "| 1.186.247.60|            33322|\n",
      "| 1.186.248.29|             4688|\n",
      "| 1.186.28.220|            20022|\n",
      "|  1.186.32.38|            40021|\n",
      "|  1.186.32.38|             6131|\n",
      "|   1.186.37.1|             6449|\n",
      "|  1.186.37.11|            25461|\n",
      "|  1.186.37.17|             5766|\n",
      "|   1.186.37.2|            39363|\n",
      "|   1.186.37.2|             6460|\n",
      "|  1.186.37.25|             5267|\n",
      "|  1.186.37.25|            20108|\n",
      "|  1.186.37.25|             1599|\n",
      "|   1.186.37.5|             1138|\n",
      "|   1.186.38.1|            20609|\n",
      "|  1.186.38.19|            33119|\n",
      "|  1.186.38.25|            26582|\n",
      "+-------------+-----------------+\n",
      "only showing top 20 rows\n",
      "\n"
     ]
    }
   ],
   "source": [
    "SpSession.sql(\"select IP,time_diff_in_secs from log_session where time_diff_in_secs>900 order by IP, time_stamp \").show()"
   ]
  },
  {
   "cell_type": "code",
   "execution_count": 13,
   "metadata": {},
   "outputs": [],
   "source": [
    "logDataFrameSession = logDataFrameIPTimeStamp.select(F.when(logDataFrameIPTimeStamp.time_diff_in_secs > 900, lit(1)).otherwise(lit(0)).alias(\"new_session\"))\n",
    "\n",
    "\n",
    "logDataFrameSession = logDataFrameIPTimeStamp.withColumn('new_session',F.when(((logDataFrameIPTimeStamp.time_diff_in_secs > 900) | (logDataFrameIPTimeStamp.time_diff_in_secs.isNull())), lit(1)).otherwise(lit(0)))\n",
    "logDataFrameSession.createOrReplaceTempView(\"log_new_session\")\n"
   ]
  },
  {
   "cell_type": "code",
   "execution_count": 18,
   "metadata": {},
   "outputs": [
    {
     "name": "stdout",
     "output_type": "stream",
     "text": [
      "+------------+-----------+----------+--------------------+-----------------+--------------------+\n",
      "|          IP|new_session|session_id|          time_stamp|time_diff_in_secs| time_stamp_previous|\n",
      "+------------+-----------+----------+--------------------+-----------------+--------------------+\n",
      "|1.186.101.79|          1|         1|2015-07-22 10:45:...|                0|                null|\n",
      "|1.186.101.79|          0|         1|2015-07-22 10:45:...|                0|2015-07-22 10:45:...|\n",
      "|1.186.101.79|          0|         1|2015-07-22 10:46:...|               32|2015-07-22 10:45:...|\n",
      "|1.186.101.79|          0|         1|2015-07-22 10:46:...|               29|2015-07-22 10:46:...|\n",
      "|1.186.101.79|          0|         1|2015-07-22 10:47:...|                5|2015-07-22 10:46:...|\n",
      "+------------+-----------+----------+--------------------+-----------------+--------------------+\n",
      "only showing top 5 rows\n",
      "\n"
     ]
    }
   ],
   "source": [
    "logDataFrameSessionId = SpSession.sql(\"select *,(SUM(new_session) OVER (PARTITION BY IP ORDER BY IP,time_stamp)) as session_id from log_new_session\")\n",
    "logDataFrameSessionId.createOrReplaceTempView(\"log_new_session_id\")\n",
    "SpSession.sql(\"select IP,new_session,session_id,time_stamp,ifnull(time_diff_in_secs, 0) as time_diff_in_secs ,time_stamp_previous from log_new_session_id order by IP,time_stamp\").show(5)\n",
    "\n",
    "#Q1 i.e the sessions are represented by logDataFrameSessionId, Every IP has its own session ids"
   ]
  },
  {
   "cell_type": "code",
   "execution_count": 20,
   "metadata": {},
   "outputs": [
    {
     "data": {
      "text/plain": [
       "0"
      ]
     },
     "execution_count": 20,
     "metadata": {},
     "output_type": "execute_result"
    }
   ],
   "source": [
    "SpSession.sql(\"select * from log_new_session_id where IP is null\").count()\n",
    "#So, null IPs are there"
   ]
  },
  {
   "cell_type": "code",
   "execution_count": 24,
   "metadata": {},
   "outputs": [
    {
     "name": "stdout",
     "output_type": "stream",
     "text": [
      "+-------------+------------+\n",
      "|           IP|session_time|\n",
      "+-------------+------------+\n",
      "| 1.186.101.79|        1118|\n",
      "|1.186.103.240|          11|\n",
      "| 1.186.103.78|           9|\n",
      "|1.186.108.213|         113|\n",
      "|1.186.108.230|          19|\n",
      "+-------------+------------+\n",
      "only showing top 5 rows\n",
      "\n"
     ]
    }
   ],
   "source": [
    "logDataFrameSessionTime = SpSession.sql(\"select IP,session_id,sum(time_diff_in_secs) as session_time from log_new_session_id group by IP,session_id order by IP,session_id\")\n",
    "logDataFrameSessionTime.createOrReplaceTempView(\"log_session_time_tmp\")\n",
    "logDataFrameSessionTime= SpSession.sql(\"select IP, ifnull(session_time, 0) as session_time from log_session_time_tmp\")\n",
    "logDataFrameSessionTime.show(5)"
   ]
  },
  {
   "cell_type": "code",
   "execution_count": 25,
   "metadata": {},
   "outputs": [
    {
     "name": "stdout",
     "output_type": "stream",
     "text": [
      "+------------------+\n",
      "|  avg_session_time|\n",
      "+------------------+\n",
      "|2175.9683673929717|\n",
      "+------------------+\n",
      "\n"
     ]
    }
   ],
   "source": [
    "###################################Q2###############################################\n",
    "logDataFrameSessionTime.createOrReplaceTempView(\"log_session_time\")\n",
    "SpSession.sql(\"select Avg(session_time) as avg_session_time from log_session_time\").show()\n",
    "#average session time is 2175.9683673929717"
   ]
  },
  {
   "cell_type": "code",
   "execution_count": 26,
   "metadata": {},
   "outputs": [
    {
     "name": "stdout",
     "output_type": "stream",
     "text": [
      "+-------------+----------+----------------+\n",
      "|           IP|session_id|unique_url_count|\n",
      "+-------------+----------+----------------+\n",
      "| 1.186.101.79|         1|              12|\n",
      "|1.186.103.240|         1|               5|\n",
      "| 1.186.103.78|         1|               4|\n",
      "|1.186.108.213|         1|               2|\n",
      "|1.186.108.230|         1|               5|\n",
      "|1.186.108.242|         1|               3|\n",
      "| 1.186.108.28|         1|              80|\n",
      "| 1.186.108.29|         1|               3|\n",
      "| 1.186.108.79|         1|               3|\n",
      "|1.186.111.224|         1|               9|\n",
      "|1.186.111.224|         2|              12|\n",
      "| 1.186.112.12|         1|               3|\n",
      "| 1.186.112.52|         1|              16|\n",
      "|1.186.114.135|         1|               2|\n",
      "| 1.186.114.45|         1|               6|\n",
      "|1.186.117.150|         1|               1|\n",
      "| 1.186.128.57|         1|               8|\n",
      "|1.186.129.213|         1|               6|\n",
      "|1.186.135.123|         1|              11|\n",
      "|1.186.135.254|         1|               5|\n",
      "+-------------+----------+----------------+\n",
      "only showing top 20 rows\n",
      "\n"
     ]
    }
   ],
   "source": [
    "###################################Q3###############################################\n",
    "SpSession.sql(\"select distinct IP,session_id, request from log_new_session_id\").take(1)\n",
    "logUniqueVisits = SpSession.sql(\"select IP,session_id,count(*) as unique_url_count from ( select distinct IP,session_id, url from log_new_session_id )group by IP,session_id order by IP,session_id\")\n",
    "logUniqueVisits.show()"
   ]
  },
  {
   "cell_type": "code",
   "execution_count": null,
   "metadata": {},
   "outputs": [],
   "source": [
    "###################################Q4###############################################\n",
    "SpSession.sql(\"select IP,session_time from log_session_time order by session_time desc\").show()"
   ]
  }
 ],
 "metadata": {
  "kernelspec": {
   "display_name": "Python 3",
   "language": "python",
   "name": "python3"
  },
  "language_info": {
   "codemirror_mode": {
    "name": "ipython",
    "version": 3
   },
   "file_extension": ".py",
   "mimetype": "text/x-python",
   "name": "python",
   "nbconvert_exporter": "python",
   "pygments_lexer": "ipython3",
   "version": "3.7.1"
  }
 },
 "nbformat": 4,
 "nbformat_minor": 2
}
