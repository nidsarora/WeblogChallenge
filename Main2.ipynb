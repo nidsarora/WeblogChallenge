{
 "cells": [
  {
   "cell_type": "code",
   "execution_count": 1,
   "metadata": {},
   "outputs": [],
   "source": [
    "# -*- coding: utf-8 -*-\n",
    "\n",
    "import os\n",
    "import sys\n",
    "from datetime import datetime\n",
    "import pandas as pd\n",
    "import numpy as np\n",
    "from statsmodels.tsa.statespace import sarimax\n",
    "from statsmodels.tsa.stattools import acf, pacf\n",
    "from statsmodels.graphics.tsaplots import plot_acf,plot_pacf\n",
    "from pandas import Series\n",
    "from statsmodels.tsa.arima_model import ARIMA \n",
    "import math\n",
    "\n",
    "os.chdir(\"C:/Users/arora/Documents/spark-python\")  \n",
    "os.environ['SPARK_HOME'] = 'C:/Users/arora/spark-2.3.3-bin-hadoop2.7'\n",
    "\n",
    "# Create a variable for our root path\n",
    "SPARK_HOME = os.environ['SPARK_HOME']\n",
    "\n",
    "#Add the following paths to the system path. \n",
    "sys.path.insert(0,os.path.join(SPARK_HOME,\"python\"))\n",
    "sys.path.insert(0,os.path.join(SPARK_HOME,\"python\",\"lib\"))\n",
    "sys.path.insert(0,os.path.join(SPARK_HOME,\"python\",\"lib\",\"pyspark.zip\"))\n",
    "sys.path.insert(0,os.path.join(SPARK_HOME,\"python\",\"lib\",\"py4j-0.10.7-src.zip\"))\n",
    "\n",
    "from pyspark.sql import Row\n",
    "import pyspark\n",
    "from pyspark.sql import SparkSession\n",
    "from pyspark import SparkContext\n",
    "from pyspark.sql import functions as F\n",
    "from pyspark.sql.functions import to_timestamp\n",
    "from pyspark.sql.functions import split\n",
    "from pyspark.sql.window import Window\n",
    "import pyspark.sql.functions as func\n",
    "from pyspark.sql.functions import lit\n",
    "from pyspark.sql.functions import unix_timestamp\n",
    "from pyspark.sql.functions import from_unixtime\n",
    "from pyspark.sql.functions import col, udf\n",
    "from pyspark.sql.types import TimestampType,IntegerType\n",
    "from pyspark.sql.functions import lag\n",
    "from pyspark.sql import Row\n",
    "from pyspark.ml.linalg import Vectors\n",
    "from datetime import datetime\n",
    "from pyspark.ml.clustering import KMeans\n",
    "\n",
    "def time_delta(y,x): \n",
    "    from datetime import datetime\n",
    "    end = datetime.strptime(y, '%Y-%m-%dT%H:%M:%S.%fZ')  \n",
    "    start = datetime.strptime(x, '%Y-%m-%dT%H:%M:%S.%fZ')\n",
    "    delta = (end-start).total_seconds()\n",
    "    return delta"
   ]
  },
  {
   "cell_type": "code",
   "execution_count": 10,
   "metadata": {},
   "outputs": [],
   "source": [
    "pathToTextFile = r'''C:\\Users\\arora\\WeblogChallenge\\data\\2015_07_22_mktplace_shop_web_log_sample.log.gz'''  \n",
    "df = pd.read_csv(pathToTextFile, sep=\" \", names=[\"timestamp_str\",\"elb_name\",\"client_ip\",\"back_end_ip\",\"request_processing_time\",\"backend_processing_time\",\\\n",
    "          \"response_processing_time\",\"elb_status_code\",\"backend_status_code\",\"received_bytes\",\"sent_bytes\",\\\n",
    "          \"request\",\"user_agent\",\"ssl_cipher\",\"ssl_protocol\"])\n",
    "df['user_agent'] = df['user_agent'].astype(str)\n",
    "df['url'] = df['request'].astype(str).str.split().str[1]\n",
    "df['IP']=df['client_ip'].astype(str).str.split(':').str[0]\n",
    "df.to_csv(r'''C:\\Users\\arora\\WeblogChallenge\\data\\2015_07_22_mktplace_shop_web_log_sample.log.csv''')\n",
    "# DataFramePrediction = SpSession.createDataFrame(df)"
   ]
  },
  {
   "cell_type": "code",
   "execution_count": 11,
   "metadata": {},
   "outputs": [],
   "source": [
    "#Create a Spark Session\n",
    "SpSession = SparkSession \\\n",
    "    .builder \\\n",
    "    .master(\"local[2]\") \\\n",
    "    .appName(\"Nidhi\") \\\n",
    "    .getOrCreate()\n",
    "    \n",
    "#Get the Spark Context from Spark Session    \n",
    "sc = SpSession.sparkContext\n"
   ]
  },
  {
   "cell_type": "code",
   "execution_count": 18,
   "metadata": {},
   "outputs": [
    {
     "name": "stdout",
     "output_type": "stream",
     "text": [
      "+---+--------------------+----------------+--------------------+-------------+-----------------------+-----------------------+------------------------+---------------+-------------------+--------------+----------+--------------------+--------------------+--------------------+------------+--------------------+---------------+\n",
      "|_c0|       timestamp_str|        elb_name|           client_ip|  back_end_ip|request_processing_time|backend_processing_time|response_processing_time|elb_status_code|backend_status_code|received_bytes|sent_bytes|             request|          user_agent|          ssl_cipher|ssl_protocol|                 url|             IP|\n",
      "+---+--------------------+----------------+--------------------+-------------+-----------------------+-----------------------+------------------------+---------------+-------------------+--------------+----------+--------------------+--------------------+--------------------+------------+--------------------+---------------+\n",
      "|  0|2015-07-22T09:00:...|marketpalce-shop|123.242.248.130:5...|10.0.6.158:80|                2.2e-05|   0.026108999999999997|                   2e-05|            200|                200|             0|       699|GET https://paytm...|Mozilla/5.0 (Wind...|ECDHE-RSA-AES128-...|     TLSv1.2|https://paytm.com...|123.242.248.130|\n",
      "|  1|2015-07-22T09:00:...|marketpalce-shop| 203.91.211.44:51402|10.0.4.150:80|                2.4e-05|                0.15334|    2.600000000000000...|            200|                200|             0|      1497|GET https://paytm...|Mozilla/5.0 (Wind...|ECDHE-RSA-AES128-...|     TLSv1.2|https://paytm.com...|  203.91.211.44|\n",
      "+---+--------------------+----------------+--------------------+-------------+-----------------------+-----------------------+------------------------+---------------+-------------------+--------------+----------+--------------------+--------------------+--------------------+------------+--------------------+---------------+\n",
      "only showing top 2 rows\n",
      "\n"
     ]
    }
   ],
   "source": [
    "logDataFrame = SpSession.read.csv(r'''C:\\Users\\arora\\WeblogChallenge\\data\\2015_07_22_mktplace_shop_web_log_sample.log.csv'''  ,header=True,sep=\",\");\n",
    "logDataFrame.show(2)"
   ]
  },
  {
   "cell_type": "code",
   "execution_count": 24,
   "metadata": {},
   "outputs": [],
   "source": [
    "func =  udf (lambda x: datetime.strptime(x, '%Y-%m-%dT%H:%M:%S.%fZ'), TimestampType())\n",
    "\n",
    "func2 =  udf (lambda x: x.replace(microsecond=0), TimestampType())\n",
    "\n",
    "logDataFrame.createOrReplaceTempView(\"data_With_IP\")\n",
    "logDataFrameWithIP = logDataFrame.withColumn('time_stamp', func(col('timestamp_str'))).cache()\n",
    "\n",
    "logDataFrameWithIPNoMicroSecs = logDataFrameWithIP.withColumn('time_stamp_without_microsecs', func2(col('time_stamp'))).cache()\n",
    "logDataFrameWithIPNoMicroSecs.take(1)\n",
    "logDataFrameWithIPNoMicroSecs.createOrReplaceTempView(\"df_time_stamp_without_microsecs\")\n",
    "\n",
    "logDataFrameIPTimeStamp = logDataFrameWithIP.withColumn('time_stamp_previous',\n",
    "                        lag(logDataFrameWithIP.time_stamp,1)\n",
    "                                 .over(Window.partitionBy(\"IP\",\"user_agent\").orderBy(\"time_stamp\"))).cache()"
   ]
  },
  {
   "cell_type": "code",
   "execution_count": 28,
   "metadata": {},
   "outputs": [
    {
     "data": {
      "text/plain": [
       "DataFrame[_c0: string, timestamp_str: string, elb_name: string, client_ip: string, back_end_ip: string, request_processing_time: string, backend_processing_time: string, response_processing_time: string, elb_status_code: string, backend_status_code: string, received_bytes: string, sent_bytes: string, request: string, user_agent: string, ssl_cipher: string, ssl_protocol: string, url: string, IP: string, time_stamp: timestamp, time_stamp_previous: timestamp, time_diff_in_secs: bigint]"
      ]
     },
     "execution_count": 28,
     "metadata": {},
     "output_type": "execute_result"
    }
   ],
   "source": [
    "logDataFrameIPTimeStamp"
   ]
  },
  {
   "cell_type": "code",
   "execution_count": 25,
   "metadata": {},
   "outputs": [],
   "source": [
    "logDataFrameIPTimeStamp = logDataFrameIPTimeStamp.withColumn(\n",
    "    \"time_diff_in_secs\", \n",
    "    unix_timestamp(\"time_stamp\") - unix_timestamp(\"time_stamp_previous\")\n",
    ")\n",
    "\n",
    "logDataFrameIPTimeStamp.createOrReplaceTempView(\"log_session\")"
   ]
  },
  {
   "cell_type": "code",
   "execution_count": 32,
   "metadata": {},
   "outputs": [
    {
     "name": "stdout",
     "output_type": "stream",
     "text": [
      "+-------------+--------------------+-----------------+\n",
      "|           IP|          user_agent|time_diff_in_secs|\n",
      "+-------------+--------------------+-----------------+\n",
      "|1.186.111.224|Mozilla/5.0 (Wind...|             1597|\n",
      "|   1.186.37.2|Mozilla/4.0 (comp...|             6599|\n",
      "|  1.186.37.25|Mozilla/5.0 (Wind...|            21898|\n",
      "|   1.186.37.5|Mozilla/5.0 (Wind...|             1138|\n",
      "|  1.186.41.45|Mozilla/5.0 (comp...|              976|\n",
      "|   1.186.41.9|Mozilla/5.0 (Wind...|            20110|\n",
      "|  1.186.76.11|Mozilla/5.0 (Wind...|              924|\n",
      "|   1.186.76.2|Mozilla/5.0 (Maci...|             5520|\n",
      "|   1.186.76.2|com.apple.Safari....|             5413|\n",
      "|  1.186.77.10|Mozilla/5.0 (Wind...|             1603|\n",
      "|  1.186.77.11|Mozilla/5.0 (Wind...|             1053|\n",
      "|  1.186.77.19|Mozilla/5.0 (Wind...|             6233|\n",
      "|  1.186.77.19|Mozilla/5.0 (Wind...|            18488|\n",
      "|  1.186.78.18|Mozilla/5.0 (Wind...|            33170|\n",
      "|  1.186.78.18|Mozilla/5.0 (Wind...|             5549|\n",
      "|   1.186.78.9|Mozilla/5.0 (Wind...|            54138|\n",
      "|   1.186.79.5|Mozilla/5.0 (Wind...|             3542|\n",
      "| 1.186.85.235|Mozilla/5.0 (Wind...|             7246|\n",
      "| 1.186.85.235|Mozilla/5.0 (Wind...|             5893|\n",
      "|1.187.195.143|Mozilla/5.0 (Wind...|             1058|\n",
      "+-------------+--------------------+-----------------+\n",
      "only showing top 20 rows\n",
      "\n"
     ]
    }
   ],
   "source": [
    "SpSession.sql(\"select IP,user_agent,time_diff_in_secs from log_session where time_diff_in_secs>900 order by IP, user_agent,time_stamp \").show()"
   ]
  },
  {
   "cell_type": "code",
   "execution_count": 33,
   "metadata": {},
   "outputs": [],
   "source": [
    "logDataFrameSession = logDataFrameIPTimeStamp.select(F.when(logDataFrameIPTimeStamp.time_diff_in_secs > 900, lit(1)).otherwise(lit(0)).alias(\"new_session\"))\n",
    "\n",
    "\n",
    "logDataFrameSession = logDataFrameIPTimeStamp.withColumn('new_session',F.when(((logDataFrameIPTimeStamp.time_diff_in_secs > 900) | (logDataFrameIPTimeStamp.time_diff_in_secs.isNull())), lit(1)).otherwise(lit(0)))\n",
    "logDataFrameSession.createOrReplaceTempView(\"log_new_session\")\n"
   ]
  },
  {
   "cell_type": "code",
   "execution_count": 36,
   "metadata": {},
   "outputs": [],
   "source": [
    "logDataFrameSessionId = SpSession.sql(\"select *,(SUM(new_session) OVER (PARTITION BY IP ORDER BY IP,user_agent,time_stamp)) as session_id from log_new_session\")\n",
    "logDataFrameSessionId.createOrReplaceTempView(\"log_new_session_id\")\n"
   ]
  },
  {
   "cell_type": "code",
   "execution_count": 41,
   "metadata": {},
   "outputs": [
    {
     "name": "stdout",
     "output_type": "stream",
     "text": [
      "+-------------+--------------------+-----------+----------+--------------------+-------------------+--------------------+\n",
      "|           IP|          user_agent|new_session|session_id|          time_stamp|  time_diff_in_secs| time_stamp_previous|\n",
      "+-------------+--------------------+-----------+----------+--------------------+-------------------+--------------------+\n",
      "| 1.186.101.79|Mozilla/5.0 (Wind...|          1|         1|2015-07-22 10:45:...|0.07804100000000001|                null|\n",
      "| 1.186.101.79|Mozilla/5.0 (Wind...|          0|         1|2015-07-22 10:45:...|                0.0|2015-07-22 10:45:...|\n",
      "| 1.186.101.79|Mozilla/5.0 (Wind...|          0|         1|2015-07-22 10:46:...|               32.0|2015-07-22 10:45:...|\n",
      "| 1.186.101.79|Mozilla/5.0 (Wind...|          0|         1|2015-07-22 10:46:...|               29.0|2015-07-22 10:46:...|\n",
      "| 1.186.101.79|Mozilla/5.0 (Wind...|          0|         1|2015-07-22 10:47:...|                5.0|2015-07-22 10:46:...|\n",
      "| 1.186.101.79|Mozilla/5.0 (Wind...|          0|         1|2015-07-22 10:47:...|                5.0|2015-07-22 10:47:...|\n",
      "| 1.186.101.79|Mozilla/5.0 (Wind...|          0|         1|2015-07-22 10:47:...|                1.0|2015-07-22 10:47:...|\n",
      "| 1.186.101.79|Mozilla/5.0 (Wind...|          0|         1|2015-07-22 10:47:...|                0.0|2015-07-22 10:47:...|\n",
      "| 1.186.101.79|Mozilla/5.0 (Wind...|          0|         1|2015-07-22 10:47:...|               11.0|2015-07-22 10:47:...|\n",
      "| 1.186.101.79|Mozilla/5.0 (Wind...|          0|         1|2015-07-22 10:47:...|               10.0|2015-07-22 10:47:...|\n",
      "| 1.186.101.79|Mozilla/5.0 (Wind...|          0|         1|2015-07-22 10:47:...|               10.0|2015-07-22 10:47:...|\n",
      "| 1.186.101.79|Mozilla/5.0 (Wind...|          0|         1|2015-07-22 10:47:...|                0.0|2015-07-22 10:47:...|\n",
      "| 1.186.101.79|Mozilla/5.0 (Wind...|          0|         1|2015-07-22 10:47:...|               13.0|2015-07-22 10:47:...|\n",
      "| 1.186.101.79|Mozilla/5.0 (Wind...|          0|         1|2015-07-22 10:47:...|                1.0|2015-07-22 10:47:...|\n",
      "| 1.186.101.79|Mozilla/5.0 (Wind...|          0|         1|2015-07-22 10:47:...|                0.0|2015-07-22 10:47:...|\n",
      "| 1.186.101.79|Mozilla/5.0 (Wind...|          0|         1|2015-07-22 10:48:...|               10.0|2015-07-22 10:47:...|\n",
      "| 1.186.101.79|Mozilla/5.0 (Wind...|          0|         1|2015-07-22 10:48:...|               10.0|2015-07-22 10:48:...|\n",
      "| 1.186.101.79|Mozilla/5.0 (Wind...|          0|         1|2015-07-22 10:48:...|               10.0|2015-07-22 10:48:...|\n",
      "| 1.186.101.79|Mozilla/5.0 (Wind...|          0|         1|2015-07-22 10:48:...|                0.0|2015-07-22 10:48:...|\n",
      "| 1.186.101.79|Mozilla/5.0 (Wind...|          0|         1|2015-07-22 11:00:...|              742.0|2015-07-22 10:48:...|\n",
      "| 1.186.101.79|Mozilla/5.0 (Wind...|          0|         1|2015-07-22 11:00:...|                0.0|2015-07-22 11:00:...|\n",
      "| 1.186.101.79|Mozilla/5.0 (Wind...|          0|         1|2015-07-22 11:00:...|                1.0|2015-07-22 11:00:...|\n",
      "| 1.186.101.79|Mozilla/5.0 (Wind...|          0|         1|2015-07-22 11:00:...|                5.0|2015-07-22 11:00:...|\n",
      "| 1.186.101.79|Mozilla/5.0 (Wind...|          0|         1|2015-07-22 11:00:...|                5.0|2015-07-22 11:00:...|\n",
      "| 1.186.101.79|Mozilla/5.0 (Wind...|          0|         1|2015-07-22 11:00:...|                0.0|2015-07-22 11:00:...|\n",
      "| 1.186.101.79|Mozilla/5.0 (Wind...|          0|         1|2015-07-22 11:00:...|                0.0|2015-07-22 11:00:...|\n",
      "| 1.186.101.79|Mozilla/5.0 (Wind...|          0|         1|2015-07-22 11:01:...|               10.0|2015-07-22 11:00:...|\n",
      "| 1.186.101.79|Mozilla/5.0 (Wind...|          0|         1|2015-07-22 11:01:...|               10.0|2015-07-22 11:01:...|\n",
      "| 1.186.101.79|Mozilla/5.0 (Wind...|          0|         1|2015-07-22 11:01:...|                0.0|2015-07-22 11:01:...|\n",
      "| 1.186.101.79|Mozilla/5.0 (Wind...|          0|         1|2015-07-22 11:04:...|              197.0|2015-07-22 11:01:...|\n",
      "| 1.186.101.79|Mozilla/5.0 (Wind...|          0|         1|2015-07-22 11:04:...|                1.0|2015-07-22 11:04:...|\n",
      "| 1.186.101.79|Mozilla/5.0 (Wind...|          0|         1|2015-07-22 11:04:...|                0.0|2015-07-22 11:04:...|\n",
      "| 1.186.101.79|Mozilla/5.0 (Wind...|          0|         1|2015-07-22 11:04:...|                0.0|2015-07-22 11:04:...|\n",
      "|1.186.103.240|Mozilla/5.0 (Wind...|          1|         1|2015-07-22 17:41:...|           0.007981|                null|\n",
      "|1.186.103.240|Mozilla/5.0 (Wind...|          0|         1|2015-07-22 17:41:...|                1.0|2015-07-22 17:41:...|\n",
      "|1.186.103.240|Mozilla/5.0 (Wind...|          0|         1|2015-07-22 17:41:...|                0.0|2015-07-22 17:41:...|\n",
      "|1.186.103.240|Mozilla/5.0 (Wind...|          0|         1|2015-07-22 17:41:...|                0.0|2015-07-22 17:41:...|\n",
      "|1.186.103.240|Mozilla/5.0 (Wind...|          0|         1|2015-07-22 17:41:...|               10.0|2015-07-22 17:41:...|\n",
      "|1.186.103.240|Mozilla/5.0 (Wind...|          0|         1|2015-07-22 17:41:...|                0.0|2015-07-22 17:41:...|\n",
      "|1.186.103.240|Mozilla/5.0 (Wind...|          0|         1|2015-07-22 17:41:...|                0.0|2015-07-22 17:41:...|\n",
      "+-------------+--------------------+-----------+----------+--------------------+-------------------+--------------------+\n",
      "only showing top 40 rows\n",
      "\n"
     ]
    }
   ],
   "source": [
    "SpSession.sql(\"select IP,user_agent,new_session,session_id,time_stamp,ifnull(time_diff_in_secs, (log_new_session_id.request_processing_time+log_new_session_id.backend_processing_time+\\\n",
    "          log_new_session_id.response_processing_time)) as time_diff_in_secs ,time_stamp_previous from log_new_session_id order by IP,user_agent,time_stamp\").show(40)\n",
    "\n",
    "#Q1 i.e the sessions are represented by logDataFrameSessionId\n"
   ]
  },
  {
   "cell_type": "code",
   "execution_count": 43,
   "metadata": {},
   "outputs": [
    {
     "name": "stdout",
     "output_type": "stream",
     "text": [
      "+---------------+\n",
      "|max(session_id)|\n",
      "+---------------+\n",
      "|             80|\n",
      "+---------------+\n",
      "\n"
     ]
    }
   ],
   "source": [
    "SpSession.sql(\"select max(session_id)  from log_new_session_id \").show()"
   ]
  },
  {
   "cell_type": "code",
   "execution_count": 44,
   "metadata": {},
   "outputs": [
    {
     "data": {
      "text/plain": [
       "0"
      ]
     },
     "execution_count": 44,
     "metadata": {},
     "output_type": "execute_result"
    }
   ],
   "source": [
    "SpSession.sql(\"select * from log_new_session_id where IP is null\").count()\n",
    "#So, null IPs are there"
   ]
  },
  {
   "cell_type": "code",
   "execution_count": 45,
   "metadata": {},
   "outputs": [
    {
     "name": "stdout",
     "output_type": "stream",
     "text": [
      "+-------------+------------+\n",
      "|           IP|session_time|\n",
      "+-------------+------------+\n",
      "| 1.186.101.79|        1118|\n",
      "|1.186.103.240|          11|\n",
      "| 1.186.103.78|           9|\n",
      "|1.186.108.213|         113|\n",
      "|1.186.108.230|          19|\n",
      "+-------------+------------+\n",
      "only showing top 5 rows\n",
      "\n"
     ]
    }
   ],
   "source": [
    "logDataFrameSessionTime = SpSession.sql(\"select IP,session_id,sum(time_diff_in_secs) as session_time from log_new_session_id group by IP,session_id order by IP,session_id\")\n",
    "logDataFrameSessionTime.createOrReplaceTempView(\"log_session_time_tmp\")\n",
    "logDataFrameSessionTime= SpSession.sql(\"select IP, ifnull(session_time, 0) as session_time from log_session_time_tmp\")\n",
    "logDataFrameSessionTime.show(5)"
   ]
  },
  {
   "cell_type": "code",
   "execution_count": 46,
   "metadata": {},
   "outputs": [
    {
     "name": "stdout",
     "output_type": "stream",
     "text": [
      "+----------------+\n",
      "|avg_session_time|\n",
      "+----------------+\n",
      "|866.394091388686|\n",
      "+----------------+\n",
      "\n"
     ]
    }
   ],
   "source": [
    "###################################Q2###############################################\n",
    "logDataFrameSessionTime.createOrReplaceTempView(\"log_session_time\")\n",
    "SpSession.sql(\"select Avg(session_time) as avg_session_time from log_session_time\").show()\n",
    "#average session time is 866.394091388686"
   ]
  },
  {
   "cell_type": "code",
   "execution_count": 47,
   "metadata": {},
   "outputs": [
    {
     "name": "stdout",
     "output_type": "stream",
     "text": [
      "+-------------+----------+----------------+\n",
      "|           IP|session_id|unique_url_count|\n",
      "+-------------+----------+----------------+\n",
      "| 1.186.101.79|         1|              12|\n",
      "|1.186.103.240|         1|               5|\n",
      "| 1.186.103.78|         1|               4|\n",
      "|1.186.108.213|         1|               2|\n",
      "|1.186.108.230|         1|               5|\n",
      "|1.186.108.242|         1|               3|\n",
      "| 1.186.108.28|         1|              80|\n",
      "| 1.186.108.29|         1|               3|\n",
      "| 1.186.108.79|         1|               3|\n",
      "|1.186.111.224|         1|               3|\n",
      "|1.186.111.224|         2|               6|\n",
      "|1.186.111.224|         3|              12|\n",
      "| 1.186.112.12|         1|               3|\n",
      "| 1.186.112.52|         1|              16|\n",
      "|1.186.114.135|         1|               2|\n",
      "| 1.186.114.45|         1|               6|\n",
      "|1.186.117.150|         1|               1|\n",
      "| 1.186.128.57|         1|               8|\n",
      "|1.186.129.213|         1|               6|\n",
      "|1.186.135.123|         1|              11|\n",
      "+-------------+----------+----------------+\n",
      "only showing top 20 rows\n",
      "\n"
     ]
    }
   ],
   "source": [
    "###################################Q3###############################################\n",
    "SpSession.sql(\"select distinct IP,session_id, request from log_new_session_id\").take(1)\n",
    "logUniqueVisits = SpSession.sql(\"select IP,session_id,count(*) as unique_url_count from ( select distinct IP,session_id, url from log_new_session_id )group by IP,session_id order by IP,session_id\")\n",
    "logUniqueVisits.show()"
   ]
  },
  {
   "cell_type": "code",
   "execution_count": 49,
   "metadata": {},
   "outputs": [
    {
     "name": "stdout",
     "output_type": "stream",
     "text": [
      "+---------------+------------+\n",
      "|             IP|session_time|\n",
      "+---------------+------------+\n",
      "|  15.219.169.69|       66513|\n",
      "|  50.116.28.209|       66363|\n",
      "|   27.120.106.3|       66299|\n",
      "|117.255.253.155|       57423|\n",
      "|   14.139.69.64|       57386|\n",
      "| 107.161.95.212|       57334|\n",
      "| 98.230.153.173|       57314|\n",
      "|   202.46.23.54|       57252|\n",
      "|  103.27.171.54|       55502|\n",
      "|107.167.109.176|       55458|\n",
      "|117.239.227.162|       55284|\n",
      "|107.167.109.161|       55211|\n",
      "|  175.41.133.20|       55205|\n",
      "| 49.206.245.152|       55054|\n",
      "| 115.248.64.169|       55050|\n",
      "| 107.167.109.17|       54284|\n",
      "| 14.139.160.234|       54230|\n",
      "|  14.140.191.35|       54146|\n",
      "|     1.186.78.9|       54138|\n",
      "|   103.24.126.6|       54042|\n",
      "+---------------+------------+\n",
      "only showing top 20 rows\n",
      "\n"
     ]
    }
   ],
   "source": [
    "###################################Q4###############################################\n",
    "SpSession.sql(\"select IP,session_time from log_session_time order by session_time desc\").show()"
   ]
  },
  {
   "cell_type": "code",
   "execution_count": 50,
   "metadata": {},
   "outputs": [
    {
     "name": "stdout",
     "output_type": "stream",
     "text": [
      "+---------------------------------+---------------------------------+\n",
      "|min(time_stamp_without_microsecs)|max(time_stamp_without_microsecs)|\n",
      "+---------------------------------+---------------------------------+\n",
      "|              2015-07-22 02:40:06|              2015-07-22 21:10:27|\n",
      "+---------------------------------+---------------------------------+\n",
      "\n"
     ]
    }
   ],
   "source": [
    "################################ML Data prep##################################\n",
    "\n",
    "SpSession.sql(\"select time_stamp_without_microsecs from df_time_stamp_without_microsecs order by time_stamp_without_microsecs asc\").take(10)\n",
    "requestsPrepDf = SpSession.sql(\"select time_stamp_without_microsecs, count(*) as requests_per_sec from df_time_stamp_without_microsecs group by time_stamp_without_microsecs order by time_stamp_without_microsecs\")\n",
    "SpSession.sql(\"select min(time_stamp_without_microsecs),max(time_stamp_without_microsecs) from df_time_stamp_without_microsecs\").show(5)\n",
    "requestsPrepDf.createOrReplaceTempView(\"df_requests_prep\")\n",
    "SpSession.sql(\"select time_stamp_without_microsecs,requests_per_sec from df_requests_prep\").count()\n",
    "requestsPredDf = SpSession.sql(\"select requests_per_sec from df_requests_prep\")\n",
    "df_requests_pd = requestsPredDf.toPandas()"
   ]
  },
  {
   "cell_type": "code",
   "execution_count": 51,
   "metadata": {},
   "outputs": [],
   "source": [
    "# acf = plot_acf(df_requests_pd)\n",
    "# acf.savefig(r'''C:\\Users\\arora\\WeblogChallenge\\images\\acf.png''')\n",
    "# acf = plot_pacf(df_requests_pd)\n",
    "# acf.savefig(r'''C:\\Users\\arora\\WeblogChallenge\\images\\pacf.png''')"
   ]
  },
  {
   "cell_type": "code",
   "execution_count": null,
   "metadata": {},
   "outputs": [],
   "source": []
  },
  {
   "cell_type": "code",
   "execution_count": 52,
   "metadata": {},
   "outputs": [
    {
     "data": {
      "text/plain": [
       "array([0.01780694])"
      ]
     },
     "execution_count": 52,
     "metadata": {},
     "output_type": "execute_result"
    }
   ],
   "source": [
    "#to check stationarity\n",
    "def difference(dataset, interval=1):\n",
    "\tdiff = list()\n",
    "\tfor i in range(interval, len(dataset)):\n",
    "\t\tvalue = dataset[i] - dataset[i - interval]\n",
    "\t\tdiff.append(value)\n",
    "\treturn Series(diff)\n",
    "\n",
    "diff = df_requests_pd.values.mean()\n",
    "diff_d1 = difference(df_requests_pd.values,1).mean()\n",
    "diff_d1\n",
    "#value of d=1 gives stationarity and minimum mean"
   ]
  },
  {
   "cell_type": "code",
   "execution_count": 53,
   "metadata": {},
   "outputs": [
    {
     "data": {
      "text/plain": [
       "array([0.02624795])"
      ]
     },
     "execution_count": 53,
     "metadata": {},
     "output_type": "execute_result"
    }
   ],
   "source": [
    "diff_d2 = difference(df_requests_pd.values,2).mean()\n",
    "diff_d2"
   ]
  },
  {
   "cell_type": "code",
   "execution_count": 54,
   "metadata": {},
   "outputs": [
    {
     "data": {
      "text/plain": [
       "4209     96\n",
       "4210     85\n",
       "4211     86\n",
       "4212     76\n",
       "4213     75\n",
       "4214     91\n",
       "4215     80\n",
       "4216     74\n",
       "4217     69\n",
       "4218     96\n",
       "4219     97\n",
       "4220    142\n",
       "4221     89\n",
       "4222     49\n",
       "4223     95\n",
       "4224    103\n",
       "4225     97\n",
       "4226     80\n",
       "4227     85\n",
       "4228     78\n",
       "4229     72\n",
       "4230     80\n",
       "4231     74\n",
       "4232     59\n",
       "4233     73\n",
       "4234     72\n",
       "4235     73\n",
       "4236     68\n",
       "4237     61\n",
       "4238     99\n",
       "4239     65\n",
       "4240     77\n",
       "4241     67\n",
       "4242     78\n",
       "4243     93\n",
       "4244     78\n",
       "4245     93\n",
       "4246     80\n",
       "4247     61\n",
       "4248     88\n",
       "4249     79\n",
       "4250     81\n",
       "4251     74\n",
       "4252     80\n",
       "4253     82\n",
       "4254    101\n",
       "4255     87\n",
       "4256     83\n",
       "4257     77\n",
       "4258    166\n",
       "4259    122\n",
       "4260    100\n",
       "4261    107\n",
       "4262     73\n",
       "4263     74\n",
       "4264     72\n",
       "4265     99\n",
       "4266     69\n",
       "4267     98\n",
       "4268    103\n",
       "Name: requests_per_sec, dtype: int64"
      ]
     },
     "execution_count": 54,
     "metadata": {},
     "output_type": "execute_result"
    }
   ],
   "source": [
    "df_requests_pd =df_requests_pd['requests_per_sec']\n",
    "train = df_requests_pd[2289:4209]\n",
    "test = df_requests_pd[-60:]\n",
    "test"
   ]
  },
  {
   "cell_type": "code",
   "execution_count": 55,
   "metadata": {},
   "outputs": [],
   "source": [
    "history=[x for x in train]"
   ]
  },
  {
   "cell_type": "code",
   "execution_count": 56,
   "metadata": {},
   "outputs": [
    {
     "name": "stdout",
     "output_type": "stream",
     "text": [
      "p 0\n",
      "21508.918343480243\n",
      "final p is 0\n",
      "p 1\n",
      "21367.259960105876\n",
      "final p is 1\n",
      "p 2\n"
     ]
    },
    {
     "name": "stderr",
     "output_type": "stream",
     "text": [
      "C:\\Users\\arora\\Anaconda3\\lib\\site-packages\\scipy\\signal\\signaltools.py:1341: FutureWarning: Using a non-tuple sequence for multidimensional indexing is deprecated; use `arr[tuple(seq)]` instead of `arr[seq]`. In the future this will be interpreted as an array index, `arr[np.array(seq)]`, which will result either in an error or a different result.\n",
      "  out_full[ind] += zi\n",
      "C:\\Users\\arora\\Anaconda3\\lib\\site-packages\\scipy\\signal\\signaltools.py:1344: FutureWarning: Using a non-tuple sequence for multidimensional indexing is deprecated; use `arr[tuple(seq)]` instead of `arr[seq]`. In the future this will be interpreted as an array index, `arr[np.array(seq)]`, which will result either in an error or a different result.\n",
      "  out = out_full[ind]\n",
      "C:\\Users\\arora\\Anaconda3\\lib\\site-packages\\scipy\\signal\\signaltools.py:1350: FutureWarning: Using a non-tuple sequence for multidimensional indexing is deprecated; use `arr[tuple(seq)]` instead of `arr[seq]`. In the future this will be interpreted as an array index, `arr[np.array(seq)]`, which will result either in an error or a different result.\n",
      "  zf = out_full[ind]\n"
     ]
    },
    {
     "name": "stdout",
     "output_type": "stream",
     "text": [
      "21295.5103821626\n",
      "final p is 2\n",
      "p 3\n",
      "21257.98213553984\n",
      "final p is 3\n",
      "p 4\n",
      "21242.78333084158\n",
      "final p is 4\n",
      "p 5\n",
      "21234.632892017016\n",
      "final p is 5\n",
      "p 6\n",
      "21236.5299616252\n",
      "final p is 5\n"
     ]
    }
   ],
   "source": [
    "final_aic = float('Inf')\n",
    "for p in range(0,7):\n",
    "              print(\"p\",p)\n",
    "              model = ARIMA(history,order=(p, 1, 0))\n",
    "              model_fit = model.fit(disp=0)\n",
    "              current_aic = model_fit.aic\n",
    "              print(current_aic)\n",
    "              if(current_aic<final_aic):\n",
    "                  final_aic = current_aic\n",
    "                  final_p = p\n",
    "              print(\"final p is\",final_p)    "
   ]
  },
  {
   "cell_type": "code",
   "execution_count": 57,
   "metadata": {},
   "outputs": [
    {
     "data": {
      "text/html": [
       "<div>\n",
       "<style scoped>\n",
       "    .dataframe tbody tr th:only-of-type {\n",
       "        vertical-align: middle;\n",
       "    }\n",
       "\n",
       "    .dataframe tbody tr th {\n",
       "        vertical-align: top;\n",
       "    }\n",
       "\n",
       "    .dataframe thead tr th {\n",
       "        text-align: left;\n",
       "    }\n",
       "</style>\n",
       "<table border=\"1\" class=\"dataframe\">\n",
       "  <thead>\n",
       "    <tr>\n",
       "      <th></th>\n",
       "      <th>Original</th>\n",
       "      <th>Predicted</th>\n",
       "    </tr>\n",
       "    <tr>\n",
       "      <th></th>\n",
       "      <th>0</th>\n",
       "      <th>0</th>\n",
       "    </tr>\n",
       "  </thead>\n",
       "  <tbody>\n",
       "    <tr>\n",
       "      <th>0</th>\n",
       "      <td>96</td>\n",
       "      <td>76.875490</td>\n",
       "    </tr>\n",
       "    <tr>\n",
       "      <th>1</th>\n",
       "      <td>85</td>\n",
       "      <td>81.138747</td>\n",
       "    </tr>\n",
       "    <tr>\n",
       "      <th>2</th>\n",
       "      <td>86</td>\n",
       "      <td>78.308651</td>\n",
       "    </tr>\n",
       "    <tr>\n",
       "      <th>3</th>\n",
       "      <td>76</td>\n",
       "      <td>77.667960</td>\n",
       "    </tr>\n",
       "    <tr>\n",
       "      <th>4</th>\n",
       "      <td>75</td>\n",
       "      <td>77.950081</td>\n",
       "    </tr>\n",
       "    <tr>\n",
       "      <th>5</th>\n",
       "      <td>91</td>\n",
       "      <td>77.712258</td>\n",
       "    </tr>\n",
       "    <tr>\n",
       "      <th>6</th>\n",
       "      <td>80</td>\n",
       "      <td>77.958833</td>\n",
       "    </tr>\n",
       "    <tr>\n",
       "      <th>7</th>\n",
       "      <td>74</td>\n",
       "      <td>78.240923</td>\n",
       "    </tr>\n",
       "    <tr>\n",
       "      <th>8</th>\n",
       "      <td>69</td>\n",
       "      <td>78.207507</td>\n",
       "    </tr>\n",
       "    <tr>\n",
       "      <th>9</th>\n",
       "      <td>96</td>\n",
       "      <td>78.182131</td>\n",
       "    </tr>\n",
       "    <tr>\n",
       "      <th>10</th>\n",
       "      <td>97</td>\n",
       "      <td>78.213031</td>\n",
       "    </tr>\n",
       "    <tr>\n",
       "      <th>11</th>\n",
       "      <td>142</td>\n",
       "      <td>78.242941</td>\n",
       "    </tr>\n",
       "    <tr>\n",
       "      <th>12</th>\n",
       "      <td>89</td>\n",
       "      <td>78.291650</td>\n",
       "    </tr>\n",
       "    <tr>\n",
       "      <th>13</th>\n",
       "      <td>49</td>\n",
       "      <td>78.344672</td>\n",
       "    </tr>\n",
       "    <tr>\n",
       "      <th>14</th>\n",
       "      <td>95</td>\n",
       "      <td>78.383746</td>\n",
       "    </tr>\n",
       "    <tr>\n",
       "      <th>15</th>\n",
       "      <td>103</td>\n",
       "      <td>78.419152</td>\n",
       "    </tr>\n",
       "    <tr>\n",
       "      <th>16</th>\n",
       "      <td>97</td>\n",
       "      <td>78.456715</td>\n",
       "    </tr>\n",
       "    <tr>\n",
       "      <th>17</th>\n",
       "      <td>80</td>\n",
       "      <td>78.495323</td>\n",
       "    </tr>\n",
       "    <tr>\n",
       "      <th>18</th>\n",
       "      <td>85</td>\n",
       "      <td>78.535035</td>\n",
       "    </tr>\n",
       "    <tr>\n",
       "      <th>19</th>\n",
       "      <td>78</td>\n",
       "      <td>78.575088</td>\n",
       "    </tr>\n",
       "    <tr>\n",
       "      <th>20</th>\n",
       "      <td>72</td>\n",
       "      <td>78.614513</td>\n",
       "    </tr>\n",
       "    <tr>\n",
       "      <th>21</th>\n",
       "      <td>80</td>\n",
       "      <td>78.653579</td>\n",
       "    </tr>\n",
       "    <tr>\n",
       "      <th>22</th>\n",
       "      <td>74</td>\n",
       "      <td>78.692674</td>\n",
       "    </tr>\n",
       "    <tr>\n",
       "      <th>23</th>\n",
       "      <td>59</td>\n",
       "      <td>78.731859</td>\n",
       "    </tr>\n",
       "    <tr>\n",
       "      <th>24</th>\n",
       "      <td>73</td>\n",
       "      <td>78.771123</td>\n",
       "    </tr>\n",
       "    <tr>\n",
       "      <th>25</th>\n",
       "      <td>72</td>\n",
       "      <td>78.810417</td>\n",
       "    </tr>\n",
       "    <tr>\n",
       "      <th>26</th>\n",
       "      <td>73</td>\n",
       "      <td>78.849683</td>\n",
       "    </tr>\n",
       "    <tr>\n",
       "      <th>27</th>\n",
       "      <td>68</td>\n",
       "      <td>78.888922</td>\n",
       "    </tr>\n",
       "    <tr>\n",
       "      <th>28</th>\n",
       "      <td>61</td>\n",
       "      <td>78.928157</td>\n",
       "    </tr>\n",
       "    <tr>\n",
       "      <th>29</th>\n",
       "      <td>99</td>\n",
       "      <td>78.967398</td>\n",
       "    </tr>\n",
       "    <tr>\n",
       "      <th>30</th>\n",
       "      <td>65</td>\n",
       "      <td>79.006643</td>\n",
       "    </tr>\n",
       "    <tr>\n",
       "      <th>31</th>\n",
       "      <td>77</td>\n",
       "      <td>79.045892</td>\n",
       "    </tr>\n",
       "    <tr>\n",
       "      <th>32</th>\n",
       "      <td>67</td>\n",
       "      <td>79.085139</td>\n",
       "    </tr>\n",
       "    <tr>\n",
       "      <th>33</th>\n",
       "      <td>78</td>\n",
       "      <td>79.124385</td>\n",
       "    </tr>\n",
       "    <tr>\n",
       "      <th>34</th>\n",
       "      <td>93</td>\n",
       "      <td>79.163630</td>\n",
       "    </tr>\n",
       "    <tr>\n",
       "      <th>35</th>\n",
       "      <td>78</td>\n",
       "      <td>79.202875</td>\n",
       "    </tr>\n",
       "    <tr>\n",
       "      <th>36</th>\n",
       "      <td>93</td>\n",
       "      <td>79.242121</td>\n",
       "    </tr>\n",
       "    <tr>\n",
       "      <th>37</th>\n",
       "      <td>80</td>\n",
       "      <td>79.281367</td>\n",
       "    </tr>\n",
       "    <tr>\n",
       "      <th>38</th>\n",
       "      <td>61</td>\n",
       "      <td>79.320613</td>\n",
       "    </tr>\n",
       "    <tr>\n",
       "      <th>39</th>\n",
       "      <td>88</td>\n",
       "      <td>79.359858</td>\n",
       "    </tr>\n",
       "    <tr>\n",
       "      <th>40</th>\n",
       "      <td>79</td>\n",
       "      <td>79.399104</td>\n",
       "    </tr>\n",
       "    <tr>\n",
       "      <th>41</th>\n",
       "      <td>81</td>\n",
       "      <td>79.438350</td>\n",
       "    </tr>\n",
       "    <tr>\n",
       "      <th>42</th>\n",
       "      <td>74</td>\n",
       "      <td>79.477595</td>\n",
       "    </tr>\n",
       "    <tr>\n",
       "      <th>43</th>\n",
       "      <td>80</td>\n",
       "      <td>79.516841</td>\n",
       "    </tr>\n",
       "    <tr>\n",
       "      <th>44</th>\n",
       "      <td>82</td>\n",
       "      <td>79.556087</td>\n",
       "    </tr>\n",
       "    <tr>\n",
       "      <th>45</th>\n",
       "      <td>101</td>\n",
       "      <td>79.595332</td>\n",
       "    </tr>\n",
       "    <tr>\n",
       "      <th>46</th>\n",
       "      <td>87</td>\n",
       "      <td>79.634578</td>\n",
       "    </tr>\n",
       "    <tr>\n",
       "      <th>47</th>\n",
       "      <td>83</td>\n",
       "      <td>79.673824</td>\n",
       "    </tr>\n",
       "    <tr>\n",
       "      <th>48</th>\n",
       "      <td>77</td>\n",
       "      <td>79.713069</td>\n",
       "    </tr>\n",
       "    <tr>\n",
       "      <th>49</th>\n",
       "      <td>166</td>\n",
       "      <td>79.752315</td>\n",
       "    </tr>\n",
       "    <tr>\n",
       "      <th>50</th>\n",
       "      <td>122</td>\n",
       "      <td>79.791561</td>\n",
       "    </tr>\n",
       "    <tr>\n",
       "      <th>51</th>\n",
       "      <td>100</td>\n",
       "      <td>79.830806</td>\n",
       "    </tr>\n",
       "    <tr>\n",
       "      <th>52</th>\n",
       "      <td>107</td>\n",
       "      <td>79.870052</td>\n",
       "    </tr>\n",
       "    <tr>\n",
       "      <th>53</th>\n",
       "      <td>73</td>\n",
       "      <td>79.909298</td>\n",
       "    </tr>\n",
       "    <tr>\n",
       "      <th>54</th>\n",
       "      <td>74</td>\n",
       "      <td>79.948543</td>\n",
       "    </tr>\n",
       "    <tr>\n",
       "      <th>55</th>\n",
       "      <td>72</td>\n",
       "      <td>79.987789</td>\n",
       "    </tr>\n",
       "    <tr>\n",
       "      <th>56</th>\n",
       "      <td>99</td>\n",
       "      <td>80.027035</td>\n",
       "    </tr>\n",
       "    <tr>\n",
       "      <th>57</th>\n",
       "      <td>69</td>\n",
       "      <td>80.066280</td>\n",
       "    </tr>\n",
       "    <tr>\n",
       "      <th>58</th>\n",
       "      <td>98</td>\n",
       "      <td>80.105526</td>\n",
       "    </tr>\n",
       "    <tr>\n",
       "      <th>59</th>\n",
       "      <td>103</td>\n",
       "      <td>80.144772</td>\n",
       "    </tr>\n",
       "  </tbody>\n",
       "</table>\n",
       "</div>"
      ],
      "text/plain": [
       "   Original  Predicted\n",
       "          0          0\n",
       "0        96  76.875490\n",
       "1        85  81.138747\n",
       "2        86  78.308651\n",
       "3        76  77.667960\n",
       "4        75  77.950081\n",
       "5        91  77.712258\n",
       "6        80  77.958833\n",
       "7        74  78.240923\n",
       "8        69  78.207507\n",
       "9        96  78.182131\n",
       "10       97  78.213031\n",
       "11      142  78.242941\n",
       "12       89  78.291650\n",
       "13       49  78.344672\n",
       "14       95  78.383746\n",
       "15      103  78.419152\n",
       "16       97  78.456715\n",
       "17       80  78.495323\n",
       "18       85  78.535035\n",
       "19       78  78.575088\n",
       "20       72  78.614513\n",
       "21       80  78.653579\n",
       "22       74  78.692674\n",
       "23       59  78.731859\n",
       "24       73  78.771123\n",
       "25       72  78.810417\n",
       "26       73  78.849683\n",
       "27       68  78.888922\n",
       "28       61  78.928157\n",
       "29       99  78.967398\n",
       "30       65  79.006643\n",
       "31       77  79.045892\n",
       "32       67  79.085139\n",
       "33       78  79.124385\n",
       "34       93  79.163630\n",
       "35       78  79.202875\n",
       "36       93  79.242121\n",
       "37       80  79.281367\n",
       "38       61  79.320613\n",
       "39       88  79.359858\n",
       "40       79  79.399104\n",
       "41       81  79.438350\n",
       "42       74  79.477595\n",
       "43       80  79.516841\n",
       "44       82  79.556087\n",
       "45      101  79.595332\n",
       "46       87  79.634578\n",
       "47       83  79.673824\n",
       "48       77  79.713069\n",
       "49      166  79.752315\n",
       "50      122  79.791561\n",
       "51      100  79.830806\n",
       "52      107  79.870052\n",
       "53       73  79.909298\n",
       "54       74  79.948543\n",
       "55       72  79.987789\n",
       "56       99  80.027035\n",
       "57       69  80.066280\n",
       "58       98  80.105526\n",
       "59      103  80.144772"
      ]
     },
     "execution_count": 57,
     "metadata": {},
     "output_type": "execute_result"
    }
   ],
   "source": [
    "model = ARIMA(history,order=(5, 1, 0))\n",
    "model_fit = model.fit(disp=0)\n",
    "yhat = model_fit.forecast(60)\n",
    "output = yhat[0]\n",
    "\n",
    "\n",
    "predictions_df = pd.DataFrame(list(output))\n",
    "original_df = pd.DataFrame(list(test))\n",
    "timeseries_forecasts_Df = pd.concat([original_df,predictions_df],axis=1,keys=['Original','Predicted'])\n",
    "timeseries_forecasts_Df.to_csv(r'''C:\\Users\\arora\\WeblogChallenge\\results\\ArimaResults.csv''')\n",
    "timeseries_forecasts_Df"
   ]
  },
  {
   "cell_type": "code",
   "execution_count": 58,
   "metadata": {},
   "outputs": [],
   "source": [
    "# model = sarimax.SARIMAX(history,order=(5, 1, 0), seasonal_order=(5, 1, 0,60),enforce_stationarity=False, enforce_invertibility=False)\n",
    "# model_fit = model.fit(disp=0)\n",
    "# current_aic = model_fit.aic\n"
   ]
  },
  {
   "cell_type": "code",
   "execution_count": 59,
   "metadata": {},
   "outputs": [
    {
     "data": {
      "text/plain": [
       "21236.5299616252"
      ]
     },
     "execution_count": 59,
     "metadata": {},
     "output_type": "execute_result"
    }
   ],
   "source": [
    "current_aic"
   ]
  },
  {
   "cell_type": "code",
   "execution_count": 61,
   "metadata": {},
   "outputs": [
    {
     "name": "stdout",
     "output_type": "stream",
     "text": [
      "+---------------+-----------------------+------------------+\n",
      "|             IP|avg_req_processing_time|avg_received_bytes|\n",
      "+---------------+-----------------------+------------------+\n",
      "|   113.193.33.7|                 2.2E-5|               0.0|\n",
      "|  122.166.58.14|   2.303571428571428...|              36.0|\n",
      "|     62.7.83.14|   2.100000000000000...|               0.0|\n",
      "| 117.201.158.68|                2.28E-5|             117.3|\n",
      "|    156.101.9.1|   2.335294117647058...|  69.6470588235294|\n",
      "|     1.38.20.34|   2.294285714285714...| 67.02857142857142|\n",
      "|106.215.136.220|   2.333333333333333...| 373.3333333333333|\n",
      "|124.123.151.148|                2.34E-5|               0.0|\n",
      "| 216.82.251.232|   2.233333333333333...|               0.0|\n",
      "|168.235.197.123|   2.552941176470588...|30.529411764705884|\n",
      "|  182.19.54.187|   2.325806451612903E-5|               0.0|\n",
      "| 122.174.149.15|   2.350000000000000...|               0.0|\n",
      "| 107.167.99.177|   2.546666666666666...|13.066666666666666|\n",
      "|  27.34.250.215|   2.304347826086956...| 9.782608695652174|\n",
      "|  120.56.209.48|   2.431249999999999...|              58.0|\n",
      "|      1.39.63.5|   2.233333333333333...|               0.0|\n",
      "|   27.63.186.72|   2.283333333333333...|23.666666666666668|\n",
      "|  43.248.39.163|               2.375E-5|               0.0|\n",
      "|  116.202.29.82|                1.95E-5|               0.0|\n",
      "|  15.211.153.73|   2.333333333333333...|               0.0|\n",
      "+---------------+-----------------------+------------------+\n",
      "only showing top 20 rows\n",
      "\n"
     ]
    }
   ],
   "source": [
    "dfIPWithAvgRPAndRB = SpSession.sql(\"select IP, avg(request_processing_time) as avg_req_processing_time,avg(received_bytes) as avg_received_bytes from data_With_IP group by IP\")\n",
    "dfIPWithAvgRPAndRB.createOrReplaceTempView(\"df_avg_rp_rb\")\n",
    "dfIPWithAvgRPAndRB.show()"
   ]
  },
  {
   "cell_type": "code",
   "execution_count": 62,
   "metadata": {},
   "outputs": [],
   "source": [
    "dfIPWithUniqueUrlCount = SpSession.sql(\"select IP,session_id,count(*) as unique_url_count from ( select distinct IP,session_id, url from log_new_session_id )group by IP,session_id order by IP,session_id\")\n",
    "dfIPWithUniqueUrlCount.createOrReplaceTempView(\"df_unique_url\")\n",
    "dfIPWithAvgUniqueUrlCount = SpSession.sql(\"select IP, avg(unique_url_count) as avg_unique_url_count from df_unique_url group by IP\")\n",
    "dfIPWithAvgUniqueUrlCount.createOrReplaceTempView(\"df_avg_unique_url_count\")"
   ]
  },
  {
   "cell_type": "code",
   "execution_count": 63,
   "metadata": {},
   "outputs": [],
   "source": [
    "dfIPWithAvgLogSessionTime = SpSession.sql(\"select IP, avg(session_time) as avg_session_time from log_session_time group by IP\")\n",
    "dfIPWithAvgLogSessionTime.createOrReplaceTempView(\"df_avg_session_time\")"
   ]
  },
  {
   "cell_type": "code",
   "execution_count": 64,
   "metadata": {},
   "outputs": [],
   "source": [
    "dfForClusteringWithIP = SpSession.sql(\"select     df_avg_rp_rb.IP,avg_req_processing_time,avg_received_bytes,avg_unique_url_count,avg_session_time\\\n",
    "                from   df_avg_rp_rb inner join df_avg_unique_url_count ON df_avg_rp_rb.IP = df_avg_unique_url_count.IP\\\n",
    "                inner join df_avg_session_time ON df_avg_rp_rb.IP = df_avg_session_time.IP\")"
   ]
  },
  {
   "cell_type": "code",
   "execution_count": 65,
   "metadata": {},
   "outputs": [],
   "source": [
    "dfForClustering = SpSession.sql(\"select avg_req_processing_time,avg_received_bytes,avg_unique_url_count,avg_session_time\\\n",
    "                from   df_avg_rp_rb inner join df_avg_unique_url_count ON df_avg_rp_rb.IP = df_avg_unique_url_count.IP\\\n",
    "                inner join df_avg_session_time ON df_avg_rp_rb.IP = df_avg_session_time.IP\").cache()"
   ]
  },
  {
   "cell_type": "code",
   "execution_count": 66,
   "metadata": {},
   "outputs": [],
   "source": [
    "summStats=dfForClustering.describe().toPandas()\n",
    "meanValues=summStats.iloc[1,1:5].values.tolist()\n",
    "stdValues=summStats.iloc[2,1:5].values.tolist()\n",
    "\n",
    "#place the means and std.dev values in a broadcast variable\n",
    "bcMeans=sc.broadcast(meanValues)\n",
    "bcStdDev=sc.broadcast(stdValues)\n",
    "\n",
    "def normalize(inRow) :\n",
    "\n",
    "    global bcMeans\n",
    "    global bcStdDev\n",
    "    \n",
    "    meanArray=bcMeans.value\n",
    "    stdArray=bcStdDev.value\n",
    "\n",
    "    retArray=[]\n",
    "    for i in range(4):\n",
    "        retArray.append( (float(inRow[i]) - float(meanArray[i])) /\\\n",
    "            float(stdArray[i]) )\n",
    "    return Vectors.dense(retArray)"
   ]
  },
  {
   "cell_type": "code",
   "execution_count": 68,
   "metadata": {},
   "outputs": [],
   "source": [
    "# #ran it in py file and not running again to save time\n",
    "# cost = np.zeros(8)\n",
    "# for t in range(3,8):   \n",
    "#    print(\"k is\",t)\n",
    "#    kmeans = KMeans(k=t, seed=1)\n",
    "#    model = kmeans.fit(clusteringDataDf)\n",
    "#    cost[t] = model.computeCost(clusteringDataDf)\n",
    "#    print(\"cost for k=\",t,cost[t])\n",
    "# #cost for\n",
    "# #                    k = 3 is 237352.30733043578\n",
    "# #                    k = 4 is 172033.76753159278\n",
    "# #                    k = 5 is 167181.11987527306\n",
    "# #                    k = 6 is 134039.79768744443\n",
    "# #                    k = 7 is 88746.62403988624\n",
    "# #                    k = 8 is 133838.24873825608\n",
    "# #Using elbow method , k =7 is the best for clustering"
   ]
  },
  {
   "cell_type": "code",
   "execution_count": 69,
   "metadata": {},
   "outputs": [],
   "source": [
    "clusteringData = dfForClustering.rdd.map(normalize)\n",
    "clusteringData.collect()\n",
    "\n",
    "dataRows=clusteringData.map( lambda f:Row(features=f))\n",
    "clusteringDataDf = SpSession.createDataFrame(dataRows)"
   ]
  },
  {
   "cell_type": "code",
   "execution_count": 70,
   "metadata": {},
   "outputs": [],
   "source": [
    "kmeans = KMeans(k=7, seed=1)\n",
    "model = kmeans.fit(clusteringDataDf)\n",
    "predictions = model.transform(clusteringDataDf)"
   ]
  },
  {
   "cell_type": "code",
   "execution_count": 73,
   "metadata": {},
   "outputs": [
    {
     "name": "stdout",
     "output_type": "stream",
     "text": [
      "+------------+-----------------------+------------------+--------------------+----------------+--------------------+----------+\n",
      "|          IP|avg_req_processing_time|avg_received_bytes|avg_unique_url_count|avg_session_time|            features|prediction|\n",
      "+------------+-----------------------+------------------+--------------------+----------------+--------------------+----------+\n",
      "|1.186.143.37|                 2.4E-5|               0.0|                 2.0|             8.0|[0.01980647357410...|         0|\n",
      "|1.187.164.29|   2.422222222222222...| 6.111111111111111|                 8.0|            69.0|[0.01983153441690...|         0|\n",
      "|  1.22.41.76|              2.4375E-5|               0.0|                 5.0|            62.0|[0.01984876374633...|         0|\n",
      "| 1.23.208.26|   2.283333333333332...|               0.0|                 3.0|           573.0|[0.01967490414937...|         0|\n",
      "| 1.23.36.184|               2.375E-5|               0.0|                 4.0|            15.0|[0.01977828012594...|         0|\n",
      "+------------+-----------------------+------------------+--------------------+----------------+--------------------+----------+\n",
      "only showing top 5 rows\n",
      "\n"
     ]
    }
   ],
   "source": [
    "import pyspark.sql.functions as func\n",
    "clusteringDataDf=dfForClusteringWithIP.withColumn('row_index', func.monotonically_increasing_id())\n",
    "predictions=predictions.withColumn('row_index', func.monotonically_increasing_id())\n",
    "clusteringDataDfPred = clusteringDataDf.join(predictions, on=[\"row_index\"]).sort(\"row_index\").drop(\"row_index\").cache()\n",
    "clusteringDataDfPred.show(5)"
   ]
  },
  {
   "cell_type": "code",
   "execution_count": 74,
   "metadata": {},
   "outputs": [
    {
     "name": "stdout",
     "output_type": "stream",
     "text": [
      "+-------+-----------------------------+\n",
      "|cluster|avg_session_time_from_cluster|\n",
      "+-------+-----------------------------+\n",
      "|      0|           144.95132571886379|\n",
      "|      1|           129.04013195639703|\n",
      "|      2|            6440.914920634921|\n",
      "|      3|            4.142857142857143|\n",
      "|      4|            233.6149387541516|\n",
      "|      5|            7402.333333333333|\n",
      "|      6|            8742.922787131414|\n",
      "+-------+-----------------------------+\n",
      "\n"
     ]
    }
   ],
   "source": [
    "clusteringDataDfPred.createOrReplaceTempView(\"clustering_pred_df\")\n",
    "SpSession.sql(\"select prediction as cluster, avg(avg_session_time) as avg_session_time_from_cluster from clustering_pred_df group by prediction order by prediction\").show()"
   ]
  },
  {
   "cell_type": "code",
   "execution_count": 81,
   "metadata": {},
   "outputs": [
    {
     "name": "stdout",
     "output_type": "stream",
     "text": [
      "+-------------+-------+\n",
      "|           IP|cluster|\n",
      "+-------------+-------+\n",
      "|54.169.20.106|      2|\n",
      "+-------------+-------+\n",
      "only showing top 1 row\n",
      "\n"
     ]
    }
   ],
   "source": [
    "SpSession.sql(\"select IP,prediction as cluster from clustering_pred_df where prediction=2\").show(1)"
   ]
  },
  {
   "cell_type": "code",
   "execution_count": 82,
   "metadata": {},
   "outputs": [
    {
     "name": "stdout",
     "output_type": "stream",
     "text": [
      "+-------------+----------------------------+\n",
      "|           IP|avg_session_time_from_hisory|\n",
      "+-------------+----------------------------+\n",
      "|54.169.20.106|           8181.714285714285|\n",
      "+-------------+----------------------------+\n",
      "\n"
     ]
    }
   ],
   "source": [
    "SpSession.sql(\"select IP,avg_session_time as avg_session_time_from_hisory from df_avg_session_time where IP ='54.169.20.106'\").show()"
   ]
  },
  {
   "cell_type": "code",
   "execution_count": 77,
   "metadata": {},
   "outputs": [],
   "source": [
    "# The predicted session time for IP= 54.169.20.106 is between  6440.91492063492 and  8181.714285714285"
   ]
  },
  {
   "cell_type": "code",
   "execution_count": 78,
   "metadata": {},
   "outputs": [
    {
     "name": "stdout",
     "output_type": "stream",
     "text": [
      "+-------+---------------------------------+\n",
      "|cluster|avg_unique_url_count_from_cluster|\n",
      "+-------+---------------------------------+\n",
      "|      0|                4.523290844527443|\n",
      "|      1|               3.2056535666475425|\n",
      "|      2|                821.8528571428571|\n",
      "|      3|               1.2857142857142858|\n",
      "|      4|                67.04121840258868|\n",
      "|      5|               3085.1111111111113|\n",
      "|      6|                 8.06408198228038|\n",
      "+-------+---------------------------------+\n",
      "\n"
     ]
    }
   ],
   "source": [
    "clusteringDataDfPred.createOrReplaceTempView(\"clustering_pred_df\")\n",
    "SpSession.sql(\"select prediction as cluster, avg(avg_unique_url_count) as avg_unique_url_count_from_cluster from clustering_pred_df group by prediction order by prediction\").show()"
   ]
  },
  {
   "cell_type": "code",
   "execution_count": 83,
   "metadata": {},
   "outputs": [
    {
     "name": "stdout",
     "output_type": "stream",
     "text": [
      "+-------------+-------------------------------+\n",
      "|           IP|avg_uniqe_url_count_from_hisory|\n",
      "+-------------+-------------------------------+\n",
      "|54.169.20.106|              779.2857142857143|\n",
      "+-------------+-------------------------------+\n",
      "\n"
     ]
    }
   ],
   "source": [
    "SpSession.sql(\"select IP,avg_unique_url_count as avg_uniqe_url_count_from_hisory from df_avg_unique_url_count where IP ='54.169.20.106'\").show()"
   ]
  },
  {
   "cell_type": "code",
   "execution_count": 80,
   "metadata": {},
   "outputs": [],
   "source": [
    "#For IP = 1.39.32.249, unique url count lies between 779 and 821"
   ]
  }
 ],
 "metadata": {
  "kernelspec": {
   "display_name": "Python 3",
   "language": "python",
   "name": "python3"
  },
  "language_info": {
   "codemirror_mode": {
    "name": "ipython",
    "version": 3
   },
   "file_extension": ".py",
   "mimetype": "text/x-python",
   "name": "python",
   "nbconvert_exporter": "python",
   "pygments_lexer": "ipython3",
   "version": "3.7.1"
  }
 },
 "nbformat": 4,
 "nbformat_minor": 2
}
